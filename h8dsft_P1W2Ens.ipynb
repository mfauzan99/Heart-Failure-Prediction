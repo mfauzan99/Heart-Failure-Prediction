{
  "nbformat": 4,
  "nbformat_minor": 0,
  "metadata": {
    "colab": {
      "name": "h8dsft_P1W2Ens.ipynb",
      "provenance": [],
      "collapsed_sections": [],
      "toc_visible": true
    },
    "kernelspec": {
      "name": "python3",
      "display_name": "Python 3"
    },
    "language_info": {
      "name": "python"
    }
  },
  "cells": [
    {
      "cell_type": "markdown",
      "metadata": {
        "id": "ZONAmZcQqwBs"
      },
      "source": [
        "# Perkenalan"
      ]
    },
    {
      "cell_type": "markdown",
      "metadata": {
        "id": "1KDSrqm6q8Qy"
      },
      "source": [
        "Nama : Muhammad Fauzan\n",
        "\n",
        "Graded Challenge 2\n",
        "\n",
        "Phase 1"
      ]
    },
    {
      "cell_type": "markdown",
      "metadata": {
        "id": "QlzD4QfSq893"
      },
      "source": [
        "## Tentang Dataset\n",
        "\n",
        "Dataset yang digunakan [disini](https://www.kaggle.com/andrewmvd/heart-failure-clinical-data)\n"
      ]
    },
    {
      "cell_type": "markdown",
      "metadata": {
        "id": "rj1vLEn_8HDe"
      },
      "source": [
        "Sex :\n",
        "> Female = 0 , Male = 1\n",
        "\n",
        "Diabetes :\n",
        "> 0 = No , 1 = Yes\n",
        "\n",
        "Anaemia :\n",
        "> 0 = No , 1 = Yes\n",
        "\n",
        "High_blood_pressure :\n",
        "> 0 = No , 1 = Yes\n",
        "\n",
        "Smoking :\n",
        "> 0 = No , 1 = Yes\n",
        "\n",
        "DEATH_EVENT :\n",
        "> 0 = No , 1 = Yes"
      ]
    },
    {
      "cell_type": "markdown",
      "metadata": {
        "id": "cIep8ihsryuZ"
      },
      "source": [
        "Cardiovascular diseases (CVDs) are the number 1 cause of death globally, taking an estimated 17.9 million lives each year, which accounts for 31% of all deaths worlwide.\n",
        "Heart failure is a common event caused by CVDs and this dataset contains 12 features that can be used to predict mortality by heart failure.\n",
        "\n",
        "Most cardiovascular diseases can be prevented by addressing behavioural risk factors such as tobacco use, unhealthy diet and obesity, physical inactivity and harmful use of alcohol using population-wide strategies.\n",
        "\n",
        "People with cardiovascular disease or who are at high cardiovascular risk (due to the presence of one or more risk factors such as hypertension, diabetes, hyperlipidaemia or already established disease) need early detection and management wherein a machine learning model can be of great help."
      ]
    },
    {
      "cell_type": "markdown",
      "metadata": {
        "id": "3tKZPf8Or5T5"
      },
      "source": [
        "## Objektif\n",
        "\n",
        "*   Mampu memahami konsep Classification dengan Ensemble Model\n",
        "*   Mampu mempersiapkan data untuk digunakan dalam Ensemble Model\n",
        "*   Mampu mengimplementasikan Ensemble Model untuk membuat prediksi\n",
        "\n"
      ]
    },
    {
      "cell_type": "markdown",
      "metadata": {
        "id": "mwnnhZSssLkl"
      },
      "source": [
        "# Import Pustaka"
      ]
    },
    {
      "cell_type": "code",
      "metadata": {
        "id": "HdnaoOpcuJCE"
      },
      "source": [
        "# import pustaka\n",
        "%matplotlib inline\n",
        "import matplotlib.pyplot as plt\n",
        "import seaborn as sns\n",
        "import numpy as np\n",
        "import pandas as pd\n",
        "from sklearn.model_selection import train_test_split\n",
        "from sklearn.metrics import accuracy_score, classification_report, confusion_matrix\n",
        "from sklearn.ensemble import RandomForestClassifier, GradientBoostingClassifier\n",
        "import warnings\n",
        "warnings.filterwarnings(\"ignore\")"
      ],
      "execution_count": null,
      "outputs": []
    },
    {
      "cell_type": "markdown",
      "metadata": {
        "id": "oDVwk_n_v_s0"
      },
      "source": [
        "# Data Loading"
      ]
    },
    {
      "cell_type": "markdown",
      "metadata": {
        "id": "gyBNAP4y5Jc5"
      },
      "source": [
        "Import dataset terlebih dahulu agar dapat diolah."
      ]
    },
    {
      "cell_type": "code",
      "metadata": {
        "id": "9TjI2qUc5M_9"
      },
      "source": [
        "# import dataset\n",
        "df = pd.read_csv('/content/heart_failure_clinical_records_dataset.csv')"
      ],
      "execution_count": null,
      "outputs": []
    },
    {
      "cell_type": "markdown",
      "metadata": {
        "id": "NgHg7lvL5bhh"
      },
      "source": [
        "Kemudian, lihat 10 data teratas, 10 data terbawah, dan kolom apa saja di dalam dataset."
      ]
    },
    {
      "cell_type": "code",
      "metadata": {
        "colab": {
          "base_uri": "https://localhost:8080/",
          "height": 383
        },
        "id": "kf_Yraj55cwY",
        "outputId": "b1a5733f-8759-4ddf-dd98-1539b30b1112"
      },
      "source": [
        "# 10 data teratas\n",
        "df.head(10)"
      ],
      "execution_count": null,
      "outputs": [
        {
          "output_type": "execute_result",
          "data": {
            "text/html": [
              "<div>\n",
              "<style scoped>\n",
              "    .dataframe tbody tr th:only-of-type {\n",
              "        vertical-align: middle;\n",
              "    }\n",
              "\n",
              "    .dataframe tbody tr th {\n",
              "        vertical-align: top;\n",
              "    }\n",
              "\n",
              "    .dataframe thead th {\n",
              "        text-align: right;\n",
              "    }\n",
              "</style>\n",
              "<table border=\"1\" class=\"dataframe\">\n",
              "  <thead>\n",
              "    <tr style=\"text-align: right;\">\n",
              "      <th></th>\n",
              "      <th>age</th>\n",
              "      <th>anaemia</th>\n",
              "      <th>creatinine_phosphokinase</th>\n",
              "      <th>diabetes</th>\n",
              "      <th>ejection_fraction</th>\n",
              "      <th>high_blood_pressure</th>\n",
              "      <th>platelets</th>\n",
              "      <th>serum_creatinine</th>\n",
              "      <th>serum_sodium</th>\n",
              "      <th>sex</th>\n",
              "      <th>smoking</th>\n",
              "      <th>time</th>\n",
              "      <th>DEATH_EVENT</th>\n",
              "    </tr>\n",
              "  </thead>\n",
              "  <tbody>\n",
              "    <tr>\n",
              "      <th>0</th>\n",
              "      <td>75.0</td>\n",
              "      <td>0</td>\n",
              "      <td>582</td>\n",
              "      <td>0</td>\n",
              "      <td>20</td>\n",
              "      <td>1</td>\n",
              "      <td>265000.00</td>\n",
              "      <td>1.9</td>\n",
              "      <td>130</td>\n",
              "      <td>1</td>\n",
              "      <td>0</td>\n",
              "      <td>4</td>\n",
              "      <td>1</td>\n",
              "    </tr>\n",
              "    <tr>\n",
              "      <th>1</th>\n",
              "      <td>55.0</td>\n",
              "      <td>0</td>\n",
              "      <td>7861</td>\n",
              "      <td>0</td>\n",
              "      <td>38</td>\n",
              "      <td>0</td>\n",
              "      <td>263358.03</td>\n",
              "      <td>1.1</td>\n",
              "      <td>136</td>\n",
              "      <td>1</td>\n",
              "      <td>0</td>\n",
              "      <td>6</td>\n",
              "      <td>1</td>\n",
              "    </tr>\n",
              "    <tr>\n",
              "      <th>2</th>\n",
              "      <td>65.0</td>\n",
              "      <td>0</td>\n",
              "      <td>146</td>\n",
              "      <td>0</td>\n",
              "      <td>20</td>\n",
              "      <td>0</td>\n",
              "      <td>162000.00</td>\n",
              "      <td>1.3</td>\n",
              "      <td>129</td>\n",
              "      <td>1</td>\n",
              "      <td>1</td>\n",
              "      <td>7</td>\n",
              "      <td>1</td>\n",
              "    </tr>\n",
              "    <tr>\n",
              "      <th>3</th>\n",
              "      <td>50.0</td>\n",
              "      <td>1</td>\n",
              "      <td>111</td>\n",
              "      <td>0</td>\n",
              "      <td>20</td>\n",
              "      <td>0</td>\n",
              "      <td>210000.00</td>\n",
              "      <td>1.9</td>\n",
              "      <td>137</td>\n",
              "      <td>1</td>\n",
              "      <td>0</td>\n",
              "      <td>7</td>\n",
              "      <td>1</td>\n",
              "    </tr>\n",
              "    <tr>\n",
              "      <th>4</th>\n",
              "      <td>65.0</td>\n",
              "      <td>1</td>\n",
              "      <td>160</td>\n",
              "      <td>1</td>\n",
              "      <td>20</td>\n",
              "      <td>0</td>\n",
              "      <td>327000.00</td>\n",
              "      <td>2.7</td>\n",
              "      <td>116</td>\n",
              "      <td>0</td>\n",
              "      <td>0</td>\n",
              "      <td>8</td>\n",
              "      <td>1</td>\n",
              "    </tr>\n",
              "    <tr>\n",
              "      <th>5</th>\n",
              "      <td>90.0</td>\n",
              "      <td>1</td>\n",
              "      <td>47</td>\n",
              "      <td>0</td>\n",
              "      <td>40</td>\n",
              "      <td>1</td>\n",
              "      <td>204000.00</td>\n",
              "      <td>2.1</td>\n",
              "      <td>132</td>\n",
              "      <td>1</td>\n",
              "      <td>1</td>\n",
              "      <td>8</td>\n",
              "      <td>1</td>\n",
              "    </tr>\n",
              "    <tr>\n",
              "      <th>6</th>\n",
              "      <td>75.0</td>\n",
              "      <td>1</td>\n",
              "      <td>246</td>\n",
              "      <td>0</td>\n",
              "      <td>15</td>\n",
              "      <td>0</td>\n",
              "      <td>127000.00</td>\n",
              "      <td>1.2</td>\n",
              "      <td>137</td>\n",
              "      <td>1</td>\n",
              "      <td>0</td>\n",
              "      <td>10</td>\n",
              "      <td>1</td>\n",
              "    </tr>\n",
              "    <tr>\n",
              "      <th>7</th>\n",
              "      <td>60.0</td>\n",
              "      <td>1</td>\n",
              "      <td>315</td>\n",
              "      <td>1</td>\n",
              "      <td>60</td>\n",
              "      <td>0</td>\n",
              "      <td>454000.00</td>\n",
              "      <td>1.1</td>\n",
              "      <td>131</td>\n",
              "      <td>1</td>\n",
              "      <td>1</td>\n",
              "      <td>10</td>\n",
              "      <td>1</td>\n",
              "    </tr>\n",
              "    <tr>\n",
              "      <th>8</th>\n",
              "      <td>65.0</td>\n",
              "      <td>0</td>\n",
              "      <td>157</td>\n",
              "      <td>0</td>\n",
              "      <td>65</td>\n",
              "      <td>0</td>\n",
              "      <td>263358.03</td>\n",
              "      <td>1.5</td>\n",
              "      <td>138</td>\n",
              "      <td>0</td>\n",
              "      <td>0</td>\n",
              "      <td>10</td>\n",
              "      <td>1</td>\n",
              "    </tr>\n",
              "    <tr>\n",
              "      <th>9</th>\n",
              "      <td>80.0</td>\n",
              "      <td>1</td>\n",
              "      <td>123</td>\n",
              "      <td>0</td>\n",
              "      <td>35</td>\n",
              "      <td>1</td>\n",
              "      <td>388000.00</td>\n",
              "      <td>9.4</td>\n",
              "      <td>133</td>\n",
              "      <td>1</td>\n",
              "      <td>1</td>\n",
              "      <td>10</td>\n",
              "      <td>1</td>\n",
              "    </tr>\n",
              "  </tbody>\n",
              "</table>\n",
              "</div>"
            ],
            "text/plain": [
              "    age  anaemia  creatinine_phosphokinase  ...  smoking  time  DEATH_EVENT\n",
              "0  75.0        0                       582  ...        0     4            1\n",
              "1  55.0        0                      7861  ...        0     6            1\n",
              "2  65.0        0                       146  ...        1     7            1\n",
              "3  50.0        1                       111  ...        0     7            1\n",
              "4  65.0        1                       160  ...        0     8            1\n",
              "5  90.0        1                        47  ...        1     8            1\n",
              "6  75.0        1                       246  ...        0    10            1\n",
              "7  60.0        1                       315  ...        1    10            1\n",
              "8  65.0        0                       157  ...        0    10            1\n",
              "9  80.0        1                       123  ...        1    10            1\n",
              "\n",
              "[10 rows x 13 columns]"
            ]
          },
          "metadata": {},
          "execution_count": 3
        }
      ]
    },
    {
      "cell_type": "code",
      "metadata": {
        "colab": {
          "base_uri": "https://localhost:8080/",
          "height": 383
        },
        "id": "EHdItAe886XE",
        "outputId": "683c36b7-c095-406c-c21d-440ecb6aa6d4"
      },
      "source": [
        "# 10 data terbawah\n",
        "df.tail(10)"
      ],
      "execution_count": null,
      "outputs": [
        {
          "output_type": "execute_result",
          "data": {
            "text/html": [
              "<div>\n",
              "<style scoped>\n",
              "    .dataframe tbody tr th:only-of-type {\n",
              "        vertical-align: middle;\n",
              "    }\n",
              "\n",
              "    .dataframe tbody tr th {\n",
              "        vertical-align: top;\n",
              "    }\n",
              "\n",
              "    .dataframe thead th {\n",
              "        text-align: right;\n",
              "    }\n",
              "</style>\n",
              "<table border=\"1\" class=\"dataframe\">\n",
              "  <thead>\n",
              "    <tr style=\"text-align: right;\">\n",
              "      <th></th>\n",
              "      <th>age</th>\n",
              "      <th>anaemia</th>\n",
              "      <th>creatinine_phosphokinase</th>\n",
              "      <th>diabetes</th>\n",
              "      <th>ejection_fraction</th>\n",
              "      <th>high_blood_pressure</th>\n",
              "      <th>platelets</th>\n",
              "      <th>serum_creatinine</th>\n",
              "      <th>serum_sodium</th>\n",
              "      <th>sex</th>\n",
              "      <th>smoking</th>\n",
              "      <th>time</th>\n",
              "      <th>DEATH_EVENT</th>\n",
              "    </tr>\n",
              "  </thead>\n",
              "  <tbody>\n",
              "    <tr>\n",
              "      <th>289</th>\n",
              "      <td>90.0</td>\n",
              "      <td>1</td>\n",
              "      <td>337</td>\n",
              "      <td>0</td>\n",
              "      <td>38</td>\n",
              "      <td>0</td>\n",
              "      <td>390000.0</td>\n",
              "      <td>0.9</td>\n",
              "      <td>144</td>\n",
              "      <td>0</td>\n",
              "      <td>0</td>\n",
              "      <td>256</td>\n",
              "      <td>0</td>\n",
              "    </tr>\n",
              "    <tr>\n",
              "      <th>290</th>\n",
              "      <td>45.0</td>\n",
              "      <td>0</td>\n",
              "      <td>615</td>\n",
              "      <td>1</td>\n",
              "      <td>55</td>\n",
              "      <td>0</td>\n",
              "      <td>222000.0</td>\n",
              "      <td>0.8</td>\n",
              "      <td>141</td>\n",
              "      <td>0</td>\n",
              "      <td>0</td>\n",
              "      <td>257</td>\n",
              "      <td>0</td>\n",
              "    </tr>\n",
              "    <tr>\n",
              "      <th>291</th>\n",
              "      <td>60.0</td>\n",
              "      <td>0</td>\n",
              "      <td>320</td>\n",
              "      <td>0</td>\n",
              "      <td>35</td>\n",
              "      <td>0</td>\n",
              "      <td>133000.0</td>\n",
              "      <td>1.4</td>\n",
              "      <td>139</td>\n",
              "      <td>1</td>\n",
              "      <td>0</td>\n",
              "      <td>258</td>\n",
              "      <td>0</td>\n",
              "    </tr>\n",
              "    <tr>\n",
              "      <th>292</th>\n",
              "      <td>52.0</td>\n",
              "      <td>0</td>\n",
              "      <td>190</td>\n",
              "      <td>1</td>\n",
              "      <td>38</td>\n",
              "      <td>0</td>\n",
              "      <td>382000.0</td>\n",
              "      <td>1.0</td>\n",
              "      <td>140</td>\n",
              "      <td>1</td>\n",
              "      <td>1</td>\n",
              "      <td>258</td>\n",
              "      <td>0</td>\n",
              "    </tr>\n",
              "    <tr>\n",
              "      <th>293</th>\n",
              "      <td>63.0</td>\n",
              "      <td>1</td>\n",
              "      <td>103</td>\n",
              "      <td>1</td>\n",
              "      <td>35</td>\n",
              "      <td>0</td>\n",
              "      <td>179000.0</td>\n",
              "      <td>0.9</td>\n",
              "      <td>136</td>\n",
              "      <td>1</td>\n",
              "      <td>1</td>\n",
              "      <td>270</td>\n",
              "      <td>0</td>\n",
              "    </tr>\n",
              "    <tr>\n",
              "      <th>294</th>\n",
              "      <td>62.0</td>\n",
              "      <td>0</td>\n",
              "      <td>61</td>\n",
              "      <td>1</td>\n",
              "      <td>38</td>\n",
              "      <td>1</td>\n",
              "      <td>155000.0</td>\n",
              "      <td>1.1</td>\n",
              "      <td>143</td>\n",
              "      <td>1</td>\n",
              "      <td>1</td>\n",
              "      <td>270</td>\n",
              "      <td>0</td>\n",
              "    </tr>\n",
              "    <tr>\n",
              "      <th>295</th>\n",
              "      <td>55.0</td>\n",
              "      <td>0</td>\n",
              "      <td>1820</td>\n",
              "      <td>0</td>\n",
              "      <td>38</td>\n",
              "      <td>0</td>\n",
              "      <td>270000.0</td>\n",
              "      <td>1.2</td>\n",
              "      <td>139</td>\n",
              "      <td>0</td>\n",
              "      <td>0</td>\n",
              "      <td>271</td>\n",
              "      <td>0</td>\n",
              "    </tr>\n",
              "    <tr>\n",
              "      <th>296</th>\n",
              "      <td>45.0</td>\n",
              "      <td>0</td>\n",
              "      <td>2060</td>\n",
              "      <td>1</td>\n",
              "      <td>60</td>\n",
              "      <td>0</td>\n",
              "      <td>742000.0</td>\n",
              "      <td>0.8</td>\n",
              "      <td>138</td>\n",
              "      <td>0</td>\n",
              "      <td>0</td>\n",
              "      <td>278</td>\n",
              "      <td>0</td>\n",
              "    </tr>\n",
              "    <tr>\n",
              "      <th>297</th>\n",
              "      <td>45.0</td>\n",
              "      <td>0</td>\n",
              "      <td>2413</td>\n",
              "      <td>0</td>\n",
              "      <td>38</td>\n",
              "      <td>0</td>\n",
              "      <td>140000.0</td>\n",
              "      <td>1.4</td>\n",
              "      <td>140</td>\n",
              "      <td>1</td>\n",
              "      <td>1</td>\n",
              "      <td>280</td>\n",
              "      <td>0</td>\n",
              "    </tr>\n",
              "    <tr>\n",
              "      <th>298</th>\n",
              "      <td>50.0</td>\n",
              "      <td>0</td>\n",
              "      <td>196</td>\n",
              "      <td>0</td>\n",
              "      <td>45</td>\n",
              "      <td>0</td>\n",
              "      <td>395000.0</td>\n",
              "      <td>1.6</td>\n",
              "      <td>136</td>\n",
              "      <td>1</td>\n",
              "      <td>1</td>\n",
              "      <td>285</td>\n",
              "      <td>0</td>\n",
              "    </tr>\n",
              "  </tbody>\n",
              "</table>\n",
              "</div>"
            ],
            "text/plain": [
              "      age  anaemia  creatinine_phosphokinase  ...  smoking  time  DEATH_EVENT\n",
              "289  90.0        1                       337  ...        0   256            0\n",
              "290  45.0        0                       615  ...        0   257            0\n",
              "291  60.0        0                       320  ...        0   258            0\n",
              "292  52.0        0                       190  ...        1   258            0\n",
              "293  63.0        1                       103  ...        1   270            0\n",
              "294  62.0        0                        61  ...        1   270            0\n",
              "295  55.0        0                      1820  ...        0   271            0\n",
              "296  45.0        0                      2060  ...        0   278            0\n",
              "297  45.0        0                      2413  ...        1   280            0\n",
              "298  50.0        0                       196  ...        1   285            0\n",
              "\n",
              "[10 rows x 13 columns]"
            ]
          },
          "metadata": {},
          "execution_count": 4
        }
      ]
    },
    {
      "cell_type": "code",
      "metadata": {
        "colab": {
          "base_uri": "https://localhost:8080/"
        },
        "id": "B8005JH39jbP",
        "outputId": "e23f5786-5316-4d93-bdc2-2154539918c7"
      },
      "source": [
        "# cek kolom\n",
        "df.columns"
      ],
      "execution_count": null,
      "outputs": [
        {
          "output_type": "execute_result",
          "data": {
            "text/plain": [
              "Index(['age', 'anaemia', 'creatinine_phosphokinase', 'diabetes',\n",
              "       'ejection_fraction', 'high_blood_pressure', 'platelets',\n",
              "       'serum_creatinine', 'serum_sodium', 'sex', 'smoking', 'time',\n",
              "       'DEATH_EVENT'],\n",
              "      dtype='object')"
            ]
          },
          "metadata": {},
          "execution_count": 5
        }
      ]
    },
    {
      "cell_type": "markdown",
      "metadata": {
        "id": "Jo_pZlst98I1"
      },
      "source": [
        "# Data Cleaning"
      ]
    },
    {
      "cell_type": "markdown",
      "metadata": {
        "id": "7uySsys2-Aq2"
      },
      "source": [
        "Cek tipe data dan jumlah data dari dataset."
      ]
    },
    {
      "cell_type": "code",
      "metadata": {
        "colab": {
          "base_uri": "https://localhost:8080/"
        },
        "id": "86whfwF0-BDy",
        "outputId": "f8ec7657-941c-43be-cd2c-4b3401ab0adb"
      },
      "source": [
        "# cek info\n",
        "df.info()"
      ],
      "execution_count": null,
      "outputs": [
        {
          "output_type": "stream",
          "name": "stdout",
          "text": [
            "<class 'pandas.core.frame.DataFrame'>\n",
            "RangeIndex: 299 entries, 0 to 298\n",
            "Data columns (total 13 columns):\n",
            " #   Column                    Non-Null Count  Dtype  \n",
            "---  ------                    --------------  -----  \n",
            " 0   age                       299 non-null    float64\n",
            " 1   anaemia                   299 non-null    int64  \n",
            " 2   creatinine_phosphokinase  299 non-null    int64  \n",
            " 3   diabetes                  299 non-null    int64  \n",
            " 4   ejection_fraction         299 non-null    int64  \n",
            " 5   high_blood_pressure       299 non-null    int64  \n",
            " 6   platelets                 299 non-null    float64\n",
            " 7   serum_creatinine          299 non-null    float64\n",
            " 8   serum_sodium              299 non-null    int64  \n",
            " 9   sex                       299 non-null    int64  \n",
            " 10  smoking                   299 non-null    int64  \n",
            " 11  time                      299 non-null    int64  \n",
            " 12  DEATH_EVENT               299 non-null    int64  \n",
            "dtypes: float64(3), int64(10)\n",
            "memory usage: 30.5 KB\n"
          ]
        }
      ]
    },
    {
      "cell_type": "markdown",
      "metadata": {
        "id": "dul48nNL-FCo"
      },
      "source": [
        "Kemudian, cek missing values dari dataset."
      ]
    },
    {
      "cell_type": "code",
      "metadata": {
        "colab": {
          "base_uri": "https://localhost:8080/"
        },
        "id": "tXt0wI1d-HDu",
        "outputId": "f24cd126-11f6-4d38-8077-cc4b8cf9f107"
      },
      "source": [
        "# cek missing values\n",
        "df.isna().sum()"
      ],
      "execution_count": null,
      "outputs": [
        {
          "output_type": "execute_result",
          "data": {
            "text/plain": [
              "age                         0\n",
              "anaemia                     0\n",
              "creatinine_phosphokinase    0\n",
              "diabetes                    0\n",
              "ejection_fraction           0\n",
              "high_blood_pressure         0\n",
              "platelets                   0\n",
              "serum_creatinine            0\n",
              "serum_sodium                0\n",
              "sex                         0\n",
              "smoking                     0\n",
              "time                        0\n",
              "DEATH_EVENT                 0\n",
              "dtype: int64"
            ]
          },
          "metadata": {},
          "execution_count": 7
        }
      ]
    },
    {
      "cell_type": "markdown",
      "metadata": {
        "id": "Hmy7Y87dFDQ6"
      },
      "source": [
        "Tidak ada missing values dari dataset."
      ]
    },
    {
      "cell_type": "markdown",
      "metadata": {
        "id": "evvtWXsPFFZe"
      },
      "source": [
        "Kemudian, cek apakah dataset memiliki outliers."
      ]
    },
    {
      "cell_type": "code",
      "metadata": {
        "colab": {
          "base_uri": "https://localhost:8080/",
          "height": 584
        },
        "id": "FhLhN4HLFixN",
        "outputId": "746cc007-e4fe-4a18-e2ca-96de8655d878"
      },
      "source": [
        "# check outliers using boxplot\n",
        "df.boxplot(figsize=(25,15))"
      ],
      "execution_count": null,
      "outputs": [
        {
          "output_type": "execute_result",
          "data": {
            "text/plain": [
              "<matplotlib.axes._subplots.AxesSubplot at 0x7fea141c8410>"
            ]
          },
          "metadata": {},
          "execution_count": 8
        },
        {
          "output_type": "display_data",
          "data": {
            "image/png": "[encoded data removed]",
            "text/plain": [
              "<Figure size 1800x1080 with 1 Axes>"
            ]
          },
          "metadata": {
            "needs_background": "light"
          }
        }
      ]
    },
    {
      "cell_type": "markdown",
      "metadata": {
        "id": "pXkdbo5dGI9F"
      },
      "source": [
        "Terlihat bahwa kolom yang memiliki outliers adalah 'platelets' dan 'creatinine_phosphokinase'"
      ]
    },
    {
      "cell_type": "code",
      "metadata": {
        "colab": {
          "base_uri": "https://localhost:8080/",
          "height": 296
        },
        "id": "NaxY0NGsGOct",
        "outputId": "bba82007-e19d-4678-a567-4b38b108d546"
      },
      "source": [
        "# check platelets boxplot\n",
        "sns.boxplot(df['platelets'])"
      ],
      "execution_count": null,
      "outputs": [
        {
          "output_type": "execute_result",
          "data": {
            "text/plain": [
              "<matplotlib.axes._subplots.AxesSubplot at 0x7fea140235d0>"
            ]
          },
          "metadata": {},
          "execution_count": 9
        },
        {
          "output_type": "display_data",
          "data": {
            "image/png": "[encoded data removed]",
            "text/plain": [
              "<Figure size 432x288 with 1 Axes>"
            ]
          },
          "metadata": {
            "needs_background": "light"
          }
        }
      ]
    },
    {
      "cell_type": "code",
      "metadata": {
        "id": "Bc44SfHeH6OL"
      },
      "source": [
        "# hapus outliers dari platelets yang kurang dari 60000 dan yang lebih dari 480000\n",
        "df = df[(df['platelets'] <= 480000) & (df['platelets'] >= 60000)]"
      ],
      "execution_count": null,
      "outputs": []
    },
    {
      "cell_type": "code",
      "metadata": {
        "colab": {
          "base_uri": "https://localhost:8080/",
          "height": 297
        },
        "id": "LywqGG9RJ3aE",
        "outputId": "8f84295d-dcbc-4e9b-a50c-dedf089257c3"
      },
      "source": [
        "# check creatinine_phosphokinase boxplot\n",
        "sns.boxplot(df['creatinine_phosphokinase'])"
      ],
      "execution_count": null,
      "outputs": [
        {
          "output_type": "execute_result",
          "data": {
            "text/plain": [
              "<matplotlib.axes._subplots.AxesSubplot at 0x7fea13abb490>"
            ]
          },
          "metadata": {},
          "execution_count": 11
        },
        {
          "output_type": "display_data",
          "data": {
            "image/png": "[encoded data removed]",
            "text/plain": [
              "<Figure size 432x288 with 1 Axes>"
            ]
          },
          "metadata": {
            "needs_background": "light"
          }
        }
      ]
    },
    {
      "cell_type": "code",
      "metadata": {
        "id": "H4hHGbOFKGP3"
      },
      "source": [
        "# hapus outliers dari creatinine_phosphokinase yang melebihi 2000\n",
        "df = df[df['creatinine_phosphokinase'] <= 2000]"
      ],
      "execution_count": null,
      "outputs": []
    },
    {
      "cell_type": "markdown",
      "metadata": {
        "id": "ep_hCWuLIgVe"
      },
      "source": [
        "Kemudian, cek kembali boxplot dan juga info dari dataset."
      ]
    },
    {
      "cell_type": "code",
      "metadata": {
        "colab": {
          "base_uri": "https://localhost:8080/",
          "height": 584
        },
        "id": "-4p5RkUEKsCb",
        "outputId": "17679a86-e346-4239-9f78-d9ea2d192f9b"
      },
      "source": [
        "# check boxplot\n",
        "df.boxplot(figsize=(25,15))"
      ],
      "execution_count": null,
      "outputs": [
        {
          "output_type": "execute_result",
          "data": {
            "text/plain": [
              "<matplotlib.axes._subplots.AxesSubplot at 0x7fea137bb250>"
            ]
          },
          "metadata": {},
          "execution_count": 13
        },
        {
          "output_type": "display_data",
          "data": {
            "image/png": "[encoded data removed]",
            "text/plain": [
              "<Figure size 1800x1080 with 1 Axes>"
            ]
          },
          "metadata": {
            "needs_background": "light"
          }
        }
      ]
    },
    {
      "cell_type": "code",
      "metadata": {
        "colab": {
          "base_uri": "https://localhost:8080/"
        },
        "id": "wIWUr64nLZVl",
        "outputId": "c311a782-6a87-4960-c225-ac82a95b149b"
      },
      "source": [
        "# cek info\n",
        "df.info()"
      ],
      "execution_count": null,
      "outputs": [
        {
          "output_type": "stream",
          "name": "stdout",
          "text": [
            "<class 'pandas.core.frame.DataFrame'>\n",
            "Int64Index: 270 entries, 0 to 298\n",
            "Data columns (total 13 columns):\n",
            " #   Column                    Non-Null Count  Dtype  \n",
            "---  ------                    --------------  -----  \n",
            " 0   age                       270 non-null    float64\n",
            " 1   anaemia                   270 non-null    int64  \n",
            " 2   creatinine_phosphokinase  270 non-null    int64  \n",
            " 3   diabetes                  270 non-null    int64  \n",
            " 4   ejection_fraction         270 non-null    int64  \n",
            " 5   high_blood_pressure       270 non-null    int64  \n",
            " 6   platelets                 270 non-null    float64\n",
            " 7   serum_creatinine          270 non-null    float64\n",
            " 8   serum_sodium              270 non-null    int64  \n",
            " 9   sex                       270 non-null    int64  \n",
            " 10  smoking                   270 non-null    int64  \n",
            " 11  time                      270 non-null    int64  \n",
            " 12  DEATH_EVENT               270 non-null    int64  \n",
            "dtypes: float64(3), int64(10)\n",
            "memory usage: 29.5 KB\n"
          ]
        }
      ]
    },
    {
      "cell_type": "markdown",
      "metadata": {
        "id": "QodJJQFULnnN"
      },
      "source": [
        "# Data Exploration"
      ]
    },
    {
      "cell_type": "markdown",
      "metadata": {
        "id": "oPgy-DvwNxrr"
      },
      "source": [
        "Kita akan melihat persentase pasien yang hidup dan meninggal berdasarkan jenis kelamin."
      ]
    },
    {
      "cell_type": "code",
      "metadata": {
        "colab": {
          "base_uri": "https://localhost:8080/",
          "height": 264
        },
        "id": "LVCh4krEN4u1",
        "outputId": "aaee345b-ca44-454e-e42c-4a743cab88ca"
      },
      "source": [
        "# analysis of patient's survival based on Gender\n",
        "\n",
        "male = df[df[\"sex\"] == 1]\n",
        "female = df[df[\"sex\"] == 0]\n",
        "\n",
        "## define the survival of male\n",
        "male_alive = male[df[\"DEATH_EVENT\"] == 0]\n",
        "male_dead = male[df[\"DEATH_EVENT\"] == 1]\n",
        "\n",
        "## define the survival of female\n",
        "female_alive = female[df[\"DEATH_EVENT\"] == 0]\n",
        "female_dead = female[df[\"DEATH_EVENT\"] == 1]\n",
        "\n",
        "## labels\n",
        "labels = ['Male - Alive','Male - Dead', \"Female -  Alive\", \"Female - Dead\"]\n",
        "\n",
        "## values\n",
        "values = [len(male[df[\"DEATH_EVENT\"]==0]),\n",
        "          len(male[df[\"DEATH_EVENT\"]==1]),\n",
        "          len(female[df[\"DEATH_EVENT\"]==0]),\n",
        "          len(female[df[\"DEATH_EVENT\"]==1])\n",
        "]\n",
        "\n",
        "## colors\n",
        "colors = sns.color_palette('pastel')[0:4]\n",
        "\n",
        "## pie chart\n",
        "plt.pie(values, labels = labels, colors = colors, autopct='%.0f%%')\n",
        "plt.title(\"Analysis of Patient's Survival based on Gender\")\n",
        "plt.show()"
      ],
      "execution_count": null,
      "outputs": [
        {
          "output_type": "display_data",
          "data": {
            "image/png": "[encoded data removed]",
            "text/plain": [
              "<Figure size 432x288 with 1 Axes>"
            ]
          },
          "metadata": {}
        }
      ]
    },
    {
      "cell_type": "markdown",
      "metadata": {
        "id": "MWLY3HZnS_qF"
      },
      "source": [
        "Kita akan melihat persentase pasien yang hidup dan meninggal berdasarkan penyakit diabetes."
      ]
    },
    {
      "cell_type": "code",
      "metadata": {
        "colab": {
          "base_uri": "https://localhost:8080/",
          "height": 264
        },
        "id": "RkMTKjv1UeNz",
        "outputId": "93278330-9f2e-4b9f-e3ee-c03794958f1c"
      },
      "source": [
        "# Analysis of Patient's survival based on Diabetes\n",
        "\n",
        "diabet_yes = df[df['diabetes'] == 1]\n",
        "diabet_no = df[df['diabetes'] == 0]\n",
        "\n",
        "## define the survival of diabetic patient\n",
        "diabet_yes_alive = diabet_yes[df[\"DEATH_EVENT\"] == 0]\n",
        "diabet_yes_dead = diabet_yes[df[\"DEATH_EVENT\"] == 1]\n",
        "\n",
        "## define the survival of non-diabetic patient\n",
        "diabet_no_alive = diabet_no[df[\"DEATH_EVENT\"] == 0]\n",
        "diabet_no_dead = diabet_no[df[\"DEATH_EVENT\"] == 1]\n",
        "\n",
        "## labels\n",
        "labels = ['Diabetic - Alive',\n",
        "          'Diabetic - Dead', \n",
        "          'Non Diabetic -  Alive', \n",
        "          'Non Diabetic - Dead'\n",
        "]\n",
        "\n",
        "## values\n",
        "values = [len(diabet_yes[df[\"DEATH_EVENT\"]==0]),\n",
        "          len(diabet_yes[df[\"DEATH_EVENT\"]==1]),\n",
        "          len(diabet_no[df[\"DEATH_EVENT\"]==0]),\n",
        "          len(diabet_no[df[\"DEATH_EVENT\"]==1])\n",
        "]\n",
        "\n",
        "## colors\n",
        "colors = sns.color_palette('pastel')[0:4]\n",
        "\n",
        "## pie chart\n",
        "plt.pie(values, labels = labels, colors = colors, autopct='%.0f%%')\n",
        "plt.title(\"Analysis of Patient's Survival based on Diabetes\")\n",
        "plt.show()"
      ],
      "execution_count": null,
      "outputs": [
        {
          "output_type": "display_data",
          "data": {
            "image/png": "[encoded data removed]",
            "text/plain": [
              "<Figure size 432x288 with 1 Axes>"
            ]
          },
          "metadata": {}
        }
      ]
    },
    {
      "cell_type": "markdown",
      "metadata": {
        "id": "XuKRF9d8X4yf"
      },
      "source": [
        "Kita akan melihat persentase pasien yang hidup dan meninggal berdasarkan penyakit Anaemia."
      ]
    },
    {
      "cell_type": "code",
      "metadata": {
        "colab": {
          "base_uri": "https://localhost:8080/",
          "height": 264
        },
        "id": "9clGq4bvYuEN",
        "outputId": "c762b5a0-a22a-4061-a64a-292f565bca02"
      },
      "source": [
        "# Analysis of Patient's survival based on Anaemia\n",
        "\n",
        "anae_yes = df[df['anaemia'] == 1]\n",
        "anae_no = df[df['anaemia'] == 0]\n",
        "\n",
        "## define the survival of diabetic patient\n",
        "anae_yes_alive = anae_yes[df[\"DEATH_EVENT\"] == 0]\n",
        "anae_yes_dead = anae_yes[df[\"DEATH_EVENT\"] == 1]\n",
        "\n",
        "## define the survival of non-diabetic patient\n",
        "anae_no_alive = anae_no[df[\"DEATH_EVENT\"] == 0]\n",
        "anae_no_dead = anae_no[df[\"DEATH_EVENT\"] == 1]\n",
        "\n",
        "## labels\n",
        "labels = ['Anaemia - Alive',\n",
        "          'Anaemia - Dead', \n",
        "          'Non Anaemia -  Alive', \n",
        "          'Non Anaemia - Dead'\n",
        "]\n",
        "\n",
        "## values\n",
        "values = [len(anae_yes[df[\"DEATH_EVENT\"]==0]),\n",
        "          len(anae_yes[df[\"DEATH_EVENT\"]==1]),\n",
        "          len(anae_no[df[\"DEATH_EVENT\"]==0]),\n",
        "          len(anae_no[df[\"DEATH_EVENT\"]==1])\n",
        "]\n",
        "\n",
        "## colors\n",
        "colors = sns.color_palette('pastel')[0:4]\n",
        "\n",
        "## pie chart\n",
        "plt.pie(values, labels = labels, colors = colors, autopct='%.0f%%')\n",
        "plt.title(\"Analysis of Patient's Survival based on Anaemia\")\n",
        "plt.show()"
      ],
      "execution_count": null,
      "outputs": [
        {
          "output_type": "display_data",
          "data": {
            "image/png": "[encoded data removed]",
            "text/plain": [
              "<Figure size 432x288 with 1 Axes>"
            ]
          },
          "metadata": {}
        }
      ]
    },
    {
      "cell_type": "markdown",
      "metadata": {
        "id": "NoYzwGriZWmt"
      },
      "source": [
        "Kita akan melihat persentase pasien yang hidup dan meninggal berdasarkan tekanan darah tinggi."
      ]
    },
    {
      "cell_type": "code",
      "metadata": {
        "colab": {
          "base_uri": "https://localhost:8080/",
          "height": 264
        },
        "id": "MHN7nqc-ZnEZ",
        "outputId": "e5800b8e-c4d5-49c8-9e0c-263b34fc57fe"
      },
      "source": [
        "# Analysis of Patient's survival based on Anaemia\n",
        "\n",
        "hbp_yes = df[df['high_blood_pressure'] == 1]\n",
        "hbp_no = df[df['high_blood_pressure'] == 0]\n",
        "\n",
        "## define the survival of diabetic patient\n",
        "hbp_yes_alive = hbp_yes[df[\"DEATH_EVENT\"] == 0]\n",
        "hbp_yes_dead = hbp_yes[df[\"DEATH_EVENT\"] == 1]\n",
        "\n",
        "## define the survival of non-diabetic patient\n",
        "hbp_no_alive = hbp_no[df[\"DEATH_EVENT\"] == 0]\n",
        "hbp_no_dead = hbp_no[df[\"DEATH_EVENT\"] == 1]\n",
        "\n",
        "## labels\n",
        "labels = ['HBP - Alive',\n",
        "          'HBP - Dead', \n",
        "          'Non HBP -  Alive', \n",
        "          'Non HBP - Dead'\n",
        "]\n",
        "\n",
        "## values\n",
        "values = [len(hbp_yes[df[\"DEATH_EVENT\"]==0]),\n",
        "          len(hbp_yes[df[\"DEATH_EVENT\"]==1]),\n",
        "          len(hbp_no[df[\"DEATH_EVENT\"]==0]),\n",
        "          len(hbp_no[df[\"DEATH_EVENT\"]==1])\n",
        "]\n",
        "\n",
        "## colors\n",
        "colors = sns.color_palette('pastel')[0:4]\n",
        "\n",
        "## pie chart\n",
        "plt.pie(values, labels = labels, colors = colors, autopct='%.0f%%')\n",
        "plt.title(\"Analysis of Patient's Survival based on High Blood Pressure\")\n",
        "plt.show()"
      ],
      "execution_count": null,
      "outputs": [
        {
          "output_type": "display_data",
          "data": {
            "image/png": "[encoded data removed]",
            "text/plain": [
              "<Figure size 432x288 with 1 Axes>"
            ]
          },
          "metadata": {}
        }
      ]
    },
    {
      "cell_type": "markdown",
      "metadata": {
        "id": "ZBCAba38aK1X"
      },
      "source": [
        "Kita akan melihat persentase pasien yang hidup dan meninggal berdasarkan kebiasaan merokok."
      ]
    },
    {
      "cell_type": "code",
      "metadata": {
        "colab": {
          "base_uri": "https://localhost:8080/",
          "height": 264
        },
        "id": "M_iDeapBacuf",
        "outputId": "742efd7d-3672-45b2-b6c5-d1752ab15491"
      },
      "source": [
        "# Analysis of Patient's survival based on Smoking Habit\n",
        "\n",
        "smoke_yes = df[df['smoking'] == 1]\n",
        "smoke_no = df[df['smoking'] == 0]\n",
        "\n",
        "## define the survival of diabetic patient\n",
        "smoke_yes_alive = smoke_yes[df[\"DEATH_EVENT\"] == 0]\n",
        "smoke_yes_dead = smoke_yes[df[\"DEATH_EVENT\"] == 1]\n",
        "\n",
        "## define the survival of non-diabetic patient\n",
        "smoke_no_alive = smoke_no[df[\"DEATH_EVENT\"] == 0]\n",
        "smoke_no_dead = smoke_no[df[\"DEATH_EVENT\"] == 1]\n",
        "\n",
        "## labels\n",
        "labels = ['Smoking - Alive',\n",
        "          'Smoking - Dead', \n",
        "          'Not Smoking -  Alive', \n",
        "          'Not Smoking - Dead'\n",
        "]\n",
        "\n",
        "## values\n",
        "values = [len(smoke_yes[df[\"DEATH_EVENT\"]==0]),\n",
        "          len(smoke_yes[df[\"DEATH_EVENT\"]==1]),\n",
        "          len(smoke_no[df[\"DEATH_EVENT\"]==0]),\n",
        "          len(smoke_no[df[\"DEATH_EVENT\"]==1])\n",
        "]\n",
        "\n",
        "## colors\n",
        "colors = sns.color_palette('pastel')[0:4]\n",
        "\n",
        "## pie chart\n",
        "plt.pie(values, labels = labels, colors = colors, autopct='%.0f%%')\n",
        "plt.title(\"Analysis of Patient's Survival based on Smoking Habit\")\n",
        "plt.show()"
      ],
      "execution_count": null,
      "outputs": [
        {
          "output_type": "display_data",
          "data": {
            "image/png": "[encoded data removed]",
            "text/plain": [
              "<Figure size 432x288 with 1 Axes>"
            ]
          },
          "metadata": {}
        }
      ]
    },
    {
      "cell_type": "markdown",
      "metadata": {
        "id": "ETMiqEGNbQYP"
      },
      "source": [
        "# Data Preprocessing"
      ]
    },
    {
      "cell_type": "markdown",
      "metadata": {
        "id": "CfaLDKG7cK3S"
      },
      "source": [
        "Cek korelasi terhadap 'DEATH_EVENT' dari dataset."
      ]
    },
    {
      "cell_type": "code",
      "metadata": {
        "colab": {
          "base_uri": "https://localhost:8080/"
        },
        "id": "TrGxHld9cPns",
        "outputId": "6a49b494-2f26-414a-d0e2-831b471f8277"
      },
      "source": [
        "# korelasi terhadap RainTomorrow\n",
        "corr_DE = df.corr()\n",
        "corr_DE['DEATH_EVENT']"
      ],
      "execution_count": null,
      "outputs": [
        {
          "output_type": "execute_result",
          "data": {
            "text/plain": [
              "age                         0.279489\n",
              "anaemia                     0.061011\n",
              "creatinine_phosphokinase   -0.040658\n",
              "diabetes                   -0.005745\n",
              "ejection_fraction          -0.277243\n",
              "high_blood_pressure         0.090180\n",
              "platelets                  -0.041962\n",
              "serum_creatinine            0.306729\n",
              "serum_sodium               -0.211288\n",
              "sex                        -0.007012\n",
              "smoking                     0.004914\n",
              "time                       -0.524900\n",
              "DEATH_EVENT                 1.000000\n",
              "Name: DEATH_EVENT, dtype: float64"
            ]
          },
          "metadata": {},
          "execution_count": 20
        }
      ]
    },
    {
      "cell_type": "markdown",
      "metadata": {
        "id": "dY4nbQiEdOdV"
      },
      "source": [
        "Lihat korelasi yang bernilai positif lebih dari 0.2 dan yang bernilai kurang dari -0.2 (negatif)"
      ]
    },
    {
      "cell_type": "code",
      "metadata": {
        "colab": {
          "base_uri": "https://localhost:8080/"
        },
        "id": "NOrmdpw7dThI",
        "outputId": "e40fde54-c053-4739-c3d8-0d0ab1154526"
      },
      "source": [
        "# korelasi positif >= 0.2\n",
        "corr_DE['DEATH_EVENT'] >= 0.2"
      ],
      "execution_count": null,
      "outputs": [
        {
          "output_type": "execute_result",
          "data": {
            "text/plain": [
              "age                          True\n",
              "anaemia                     False\n",
              "creatinine_phosphokinase    False\n",
              "diabetes                    False\n",
              "ejection_fraction           False\n",
              "high_blood_pressure         False\n",
              "platelets                   False\n",
              "serum_creatinine             True\n",
              "serum_sodium                False\n",
              "sex                         False\n",
              "smoking                     False\n",
              "time                        False\n",
              "DEATH_EVENT                  True\n",
              "Name: DEATH_EVENT, dtype: bool"
            ]
          },
          "metadata": {},
          "execution_count": 21
        }
      ]
    },
    {
      "cell_type": "code",
      "metadata": {
        "colab": {
          "base_uri": "https://localhost:8080/"
        },
        "id": "VlFSMrZIdmDL",
        "outputId": "b39d481c-6a80-4fcc-fd31-e3ee218d30d6"
      },
      "source": [
        "# korelasi negatif <= -0.2\n",
        "corr_DE['DEATH_EVENT'] <= -0.2"
      ],
      "execution_count": null,
      "outputs": [
        {
          "output_type": "execute_result",
          "data": {
            "text/plain": [
              "age                         False\n",
              "anaemia                     False\n",
              "creatinine_phosphokinase    False\n",
              "diabetes                    False\n",
              "ejection_fraction            True\n",
              "high_blood_pressure         False\n",
              "platelets                   False\n",
              "serum_creatinine            False\n",
              "serum_sodium                 True\n",
              "sex                         False\n",
              "smoking                     False\n",
              "time                         True\n",
              "DEATH_EVENT                 False\n",
              "Name: DEATH_EVENT, dtype: bool"
            ]
          },
          "metadata": {},
          "execution_count": 22
        }
      ]
    },
    {
      "cell_type": "markdown",
      "metadata": {
        "id": "3a4-MvBCeHnv"
      },
      "source": [
        "Buat dataframe baru yang nantinya akan diolah ke pemodelan ensembling berdasarkan kolom yang berkorelasi >= 0.2 dan <= -0.2"
      ]
    },
    {
      "cell_type": "code",
      "metadata": {
        "id": "msn4OW7Xe2Mm"
      },
      "source": [
        "# dataframe baru\n",
        "df_new = df[['age', 'serum_creatinine', 'ejection_fraction', 'serum_sodium', 'time', 'DEATH_EVENT']]"
      ],
      "execution_count": null,
      "outputs": []
    },
    {
      "cell_type": "markdown",
      "metadata": {
        "id": "KfJQ1nvyffPs"
      },
      "source": [
        "Kemudian, definisikan X dan y yang nantinya akan diproses untuk pelatihan model."
      ]
    },
    {
      "cell_type": "code",
      "metadata": {
        "id": "LthLRHUAglO0"
      },
      "source": [
        "# define X and y\n",
        "X = df_new.drop('DEATH_EVENT', axis = 1)\n",
        "y = df_new['DEATH_EVENT']"
      ],
      "execution_count": null,
      "outputs": []
    },
    {
      "cell_type": "markdown",
      "metadata": {
        "id": "9nl3xMJwgvg7"
      },
      "source": [
        "Split data menjadi train-dev-test dengan train test split"
      ]
    },
    {
      "cell_type": "code",
      "metadata": {
        "id": "Qhg5o_yUgwAr"
      },
      "source": [
        "# split data into train-dev-test\n",
        "X_train, X_test, y_train, y_test = train_test_split(X, y, test_size= 0.3, random_state= 50, stratify= y)"
      ],
      "execution_count": null,
      "outputs": []
    },
    {
      "cell_type": "code",
      "metadata": {
        "colab": {
          "base_uri": "https://localhost:8080/"
        },
        "id": "Q45jqwORg-Of",
        "outputId": "c00e0dc4-69c4-4d0a-8080-a44f2e2aefad"
      },
      "source": [
        "# lihat shape data yang sudah di split\n",
        "print(\"X_train shape\", X_train.shape)\n",
        "print(\"y_train shape\", y_train.shape)\n",
        "print(\"X_test shape\", X_test.shape)\n",
        "print(\"y_test.shape\", y_test.shape)"
      ],
      "execution_count": null,
      "outputs": [
        {
          "output_type": "stream",
          "name": "stdout",
          "text": [
            "X_train shape (189, 5)\n",
            "y_train shape (189,)\n",
            "X_test shape (81, 5)\n",
            "y_test.shape (81,)\n"
          ]
        }
      ]
    },
    {
      "cell_type": "markdown",
      "metadata": {
        "id": "IcCrmA28hD7D"
      },
      "source": [
        "# Pendefinisian Model"
      ]
    },
    {
      "cell_type": "markdown",
      "metadata": {
        "id": "d6jVL660kSiA"
      },
      "source": [
        "## Random Forest Classifier"
      ]
    },
    {
      "cell_type": "code",
      "metadata": {
        "colab": {
          "base_uri": "https://localhost:8080/"
        },
        "id": "PhF7G7rClYBS",
        "outputId": "56ead6c8-b873-448d-a69b-0e031f15997f"
      },
      "source": [
        "# random forest\n",
        "rnd_cls = RandomForestClassifier(n_estimators=270,  \n",
        "                                 max_leaf_nodes=8, \n",
        "                                 random_state=50\n",
        ")\n",
        "print(rnd_cls)"
      ],
      "execution_count": null,
      "outputs": [
        {
          "output_type": "stream",
          "name": "stdout",
          "text": [
            "RandomForestClassifier(max_leaf_nodes=8, n_estimators=270, random_state=50)\n"
          ]
        }
      ]
    },
    {
      "cell_type": "markdown",
      "metadata": {
        "id": "A_6DkqLin0Fb"
      },
      "source": [
        "## Gradient Boosting Classifier"
      ]
    },
    {
      "cell_type": "code",
      "metadata": {
        "colab": {
          "base_uri": "https://localhost:8080/"
        },
        "id": "5KgPZjE-pM55",
        "outputId": "12bcc00e-e750-4e1d-e3af-09c295d5fa96"
      },
      "source": [
        "# Gradient Boosting\n",
        "GB_cls = GradientBoostingClassifier(n_estimators=270,\n",
        "                                    max_leaf_nodes=8, \n",
        "                                    random_state=50,\n",
        "                                    learning_rate=0.5 \n",
        ")\n",
        "print(GB_cls)"
      ],
      "execution_count": null,
      "outputs": [
        {
          "output_type": "stream",
          "name": "stdout",
          "text": [
            "GradientBoostingClassifier(learning_rate=0.5, max_leaf_nodes=8,\n",
            "                           n_estimators=270, random_state=50)\n"
          ]
        }
      ]
    },
    {
      "cell_type": "markdown",
      "metadata": {
        "id": "CCmTU8BOqP1Y"
      },
      "source": [
        "# Pelatihan Model"
      ]
    },
    {
      "cell_type": "markdown",
      "metadata": {
        "id": "QuEArQgkqZLD"
      },
      "source": [
        "## Random Forest Classifier"
      ]
    },
    {
      "cell_type": "code",
      "metadata": {
        "colab": {
          "base_uri": "https://localhost:8080/"
        },
        "id": "zHquSEjSqdvz",
        "outputId": "ab20bd75-c5dd-42dc-ff5e-fc8b0171347c"
      },
      "source": [
        "rnd_cls.fit(X_train, y_train)"
      ],
      "execution_count": null,
      "outputs": [
        {
          "output_type": "execute_result",
          "data": {
            "text/plain": [
              "RandomForestClassifier(max_leaf_nodes=8, n_estimators=270, random_state=50)"
            ]
          },
          "metadata": {},
          "execution_count": 29
        }
      ]
    },
    {
      "cell_type": "code",
      "metadata": {
        "colab": {
          "base_uri": "https://localhost:8080/"
        },
        "id": "LC2Daj84qnwv",
        "outputId": "2ef7a4bf-a7bf-4dde-a225-548c8f1e49d8"
      },
      "source": [
        "# hasil prediksi Random Forest Classifier\n",
        "y_pred_rnd = rnd_cls.predict(X_test)\n",
        "y_pred_rnd"
      ],
      "execution_count": null,
      "outputs": [
        {
          "output_type": "execute_result",
          "data": {
            "text/plain": [
              "array([0, 0, 0, 0, 0, 0, 1, 0, 1, 0, 1, 0, 1, 1, 0, 0, 0, 0, 1, 1, 0, 0,\n",
              "       1, 0, 1, 0, 0, 0, 1, 0, 0, 0, 0, 0, 0, 0, 0, 1, 0, 0, 0, 1, 0, 0,\n",
              "       1, 1, 0, 1, 0, 0, 0, 0, 0, 0, 1, 1, 0, 1, 1, 0, 0, 1, 0, 0, 0, 0,\n",
              "       0, 0, 0, 1, 0, 0, 0, 0, 0, 0, 0, 0, 0, 0, 1])"
            ]
          },
          "metadata": {},
          "execution_count": 30
        }
      ]
    },
    {
      "cell_type": "markdown",
      "metadata": {
        "id": "juHH3NMCqbjf"
      },
      "source": [
        "## Gradient Boosting Classifier"
      ]
    },
    {
      "cell_type": "code",
      "metadata": {
        "colab": {
          "base_uri": "https://localhost:8080/"
        },
        "id": "_wp27CG_q7Hj",
        "outputId": "6e48a702-5062-4778-8533-c8a852a61479"
      },
      "source": [
        "GB_cls.fit(X_train, y_train)"
      ],
      "execution_count": null,
      "outputs": [
        {
          "output_type": "execute_result",
          "data": {
            "text/plain": [
              "GradientBoostingClassifier(learning_rate=0.5, max_leaf_nodes=8,\n",
              "                           n_estimators=270, random_state=50)"
            ]
          },
          "metadata": {},
          "execution_count": 31
        }
      ]
    },
    {
      "cell_type": "code",
      "metadata": {
        "colab": {
          "base_uri": "https://localhost:8080/"
        },
        "id": "PS7-TB7RrD1K",
        "outputId": "534ec587-21b1-43b8-b241-0ca747daf1fd"
      },
      "source": [
        "# hasil prediksi Gradient Boosting Classifier\n",
        "y_pred_GB = GB_cls.predict(X_test)\n",
        "y_pred_GB"
      ],
      "execution_count": null,
      "outputs": [
        {
          "output_type": "execute_result",
          "data": {
            "text/plain": [
              "array([0, 0, 0, 0, 0, 0, 0, 0, 1, 0, 1, 0, 1, 1, 0, 0, 0, 0, 1, 1, 0, 0,\n",
              "       1, 0, 1, 0, 0, 0, 1, 1, 0, 0, 0, 0, 0, 1, 0, 1, 0, 0, 0, 1, 0, 0,\n",
              "       1, 1, 0, 1, 0, 0, 0, 0, 0, 0, 1, 0, 0, 1, 0, 0, 0, 1, 0, 0, 0, 0,\n",
              "       0, 0, 1, 1, 0, 0, 0, 1, 1, 1, 0, 0, 0, 0, 1])"
            ]
          },
          "metadata": {},
          "execution_count": 32
        }
      ]
    },
    {
      "cell_type": "markdown",
      "metadata": {
        "id": "fcwbLF8rrSvB"
      },
      "source": [
        "# Evaluasi Model"
      ]
    },
    {
      "cell_type": "markdown",
      "metadata": {
        "id": "qdTQez32rzr1"
      },
      "source": [
        "## Random Forest Classifier"
      ]
    },
    {
      "cell_type": "markdown",
      "metadata": {
        "id": "-ARaU85jrrLZ"
      },
      "source": [
        "Kita lihat akurasi dari model Random Forest yang telah kita uji."
      ]
    },
    {
      "cell_type": "code",
      "metadata": {
        "colab": {
          "base_uri": "https://localhost:8080/"
        },
        "id": "tFGkPkVKrw8d",
        "outputId": "45f3481a-81e6-4bc1-c97b-384bd3b0d8e0"
      },
      "source": [
        "# cek accuracy score\n",
        "print(accuracy_score(y_test,y_pred_rnd))"
      ],
      "execution_count": null,
      "outputs": [
        {
          "output_type": "stream",
          "name": "stdout",
          "text": [
            "0.8518518518518519\n"
          ]
        }
      ]
    },
    {
      "cell_type": "code",
      "metadata": {
        "colab": {
          "base_uri": "https://localhost:8080/"
        },
        "id": "6CaufKCb12UQ",
        "outputId": "22b60e76-2c21-4409-b26d-3a3c4c238757"
      },
      "source": [
        "# cek menggunakan confusion matrix\n",
        "print(confusion_matrix(y_test, y_pred_rnd))"
      ],
      "execution_count": null,
      "outputs": [
        {
          "output_type": "stream",
          "name": "stdout",
          "text": [
            "[[51  4]\n",
            " [ 8 18]]\n"
          ]
        }
      ]
    },
    {
      "cell_type": "code",
      "metadata": {
        "colab": {
          "base_uri": "https://localhost:8080/"
        },
        "id": "5uqE9anbr-Ka",
        "outputId": "d5888006-9cef-4d34-e5d6-9795f2ee546d"
      },
      "source": [
        "# cek menggunakan classification report\n",
        "print(classification_report(y_test,y_pred_rnd))"
      ],
      "execution_count": null,
      "outputs": [
        {
          "output_type": "stream",
          "name": "stdout",
          "text": [
            "              precision    recall  f1-score   support\n",
            "\n",
            "           0       0.86      0.93      0.89        55\n",
            "           1       0.82      0.69      0.75        26\n",
            "\n",
            "    accuracy                           0.85        81\n",
            "   macro avg       0.84      0.81      0.82        81\n",
            "weighted avg       0.85      0.85      0.85        81\n",
            "\n"
          ]
        }
      ]
    },
    {
      "cell_type": "markdown",
      "metadata": {
        "id": "vXQKJvIHsM-5"
      },
      "source": [
        "## Gradient Boosting Classifier"
      ]
    },
    {
      "cell_type": "markdown",
      "metadata": {
        "id": "VZakL3xusO5V"
      },
      "source": [
        "Kita lihat akurasi dari model Gradient Boosting yang telah kita uji."
      ]
    },
    {
      "cell_type": "code",
      "metadata": {
        "colab": {
          "base_uri": "https://localhost:8080/"
        },
        "id": "Pm7V-KMdsUl5",
        "outputId": "2258d6a7-0215-4b3d-b9b7-ab08ae67e908"
      },
      "source": [
        "# cek accuracy score\n",
        "print(accuracy_score(y_test,y_pred_GB))"
      ],
      "execution_count": null,
      "outputs": [
        {
          "output_type": "stream",
          "name": "stdout",
          "text": [
            "0.8395061728395061\n"
          ]
        }
      ]
    },
    {
      "cell_type": "code",
      "metadata": {
        "colab": {
          "base_uri": "https://localhost:8080/"
        },
        "id": "NBZCvR3B3fqk",
        "outputId": "cb832068-cfba-4f73-e5ce-1fe6a3e9bd92"
      },
      "source": [
        "# cek menggunakan confusion matrix\n",
        "print(confusion_matrix(y_test, y_pred_GB))"
      ],
      "execution_count": null,
      "outputs": [
        {
          "output_type": "stream",
          "name": "stdout",
          "text": [
            "[[49  6]\n",
            " [ 7 19]]\n"
          ]
        }
      ]
    },
    {
      "cell_type": "code",
      "metadata": {
        "colab": {
          "base_uri": "https://localhost:8080/"
        },
        "id": "SHD-brw7saPQ",
        "outputId": "cad4db1f-b22a-49a3-eb1e-63dd353f32c6"
      },
      "source": [
        "# cek menggunakan classification report\n",
        "print(classification_report(y_test,y_pred_GB))"
      ],
      "execution_count": null,
      "outputs": [
        {
          "output_type": "stream",
          "name": "stdout",
          "text": [
            "              precision    recall  f1-score   support\n",
            "\n",
            "           0       0.88      0.89      0.88        55\n",
            "           1       0.76      0.73      0.75        26\n",
            "\n",
            "    accuracy                           0.84        81\n",
            "   macro avg       0.82      0.81      0.81        81\n",
            "weighted avg       0.84      0.84      0.84        81\n",
            "\n"
          ]
        }
      ]
    },
    {
      "cell_type": "markdown",
      "metadata": {
        "id": "PS1PoEGW4Hw_"
      },
      "source": [
        "# Model Inference"
      ]
    },
    {
      "cell_type": "markdown",
      "metadata": {
        "id": "BBslJnoM4NMq"
      },
      "source": [
        "Kita akan mencoba menerapkan model yang telah dites ke data baru."
      ]
    },
    {
      "cell_type": "code",
      "metadata": {
        "colab": {
          "base_uri": "https://localhost:8080/"
        },
        "id": "pD0u1WtS4NuK",
        "outputId": "468682ba-b27c-4662-9ed9-1584f79f6ee9"
      },
      "source": [
        "df_new.min()"
      ],
      "execution_count": null,
      "outputs": [
        {
          "output_type": "execute_result",
          "data": {
            "text/plain": [
              "age                   40.0\n",
              "serum_creatinine       0.6\n",
              "ejection_fraction     14.0\n",
              "serum_sodium         113.0\n",
              "time                   4.0\n",
              "DEATH_EVENT            0.0\n",
              "dtype: float64"
            ]
          },
          "metadata": {},
          "execution_count": 39
        }
      ]
    },
    {
      "cell_type": "code",
      "metadata": {
        "colab": {
          "base_uri": "https://localhost:8080/"
        },
        "id": "v_MtkvoG4Rle",
        "outputId": "14f6f9dd-426b-4e01-a0b9-80a2a2a8b2bb"
      },
      "source": [
        "df_new.max()"
      ],
      "execution_count": null,
      "outputs": [
        {
          "output_type": "execute_result",
          "data": {
            "text/plain": [
              "age                   95.0\n",
              "serum_creatinine       9.4\n",
              "ejection_fraction     80.0\n",
              "serum_sodium         148.0\n",
              "time                 285.0\n",
              "DEATH_EVENT            1.0\n",
              "dtype: float64"
            ]
          },
          "metadata": {},
          "execution_count": 40
        }
      ]
    },
    {
      "cell_type": "code",
      "metadata": {
        "id": "lSVr57KN4U4O"
      },
      "source": [
        "# data baru\n",
        "a = [[45, 4.6, 47, 130, 72]]\n",
        "b = [[56, 1.2, 67, 125, 10]]\n",
        "\n",
        "# define result using Random Forest\n",
        "result1_1 = rnd_cls.predict(a)\n",
        "result2_1 = rnd_cls.predict(b)\n",
        "\n",
        "# define result using Gradient Boosting Classifier\n",
        "result1_2 = GB_cls.predict(a)\n",
        "result2_2 = GB_cls.predict(b)"
      ],
      "execution_count": null,
      "outputs": []
    },
    {
      "cell_type": "code",
      "metadata": {
        "colab": {
          "base_uri": "https://localhost:8080/"
        },
        "id": "oyrYq2hP5IU1",
        "outputId": "0e0f841a-67bc-4929-fa87-69a1dbea59f3"
      },
      "source": [
        "# result using Random Forest Classifier\n",
        "print(result1_1)\n",
        "print(result2_1)"
      ],
      "execution_count": null,
      "outputs": [
        {
          "output_type": "stream",
          "name": "stdout",
          "text": [
            "[1]\n",
            "[1]\n"
          ]
        }
      ]
    },
    {
      "cell_type": "code",
      "metadata": {
        "colab": {
          "base_uri": "https://localhost:8080/"
        },
        "id": "N9a_VFEA5Kz5",
        "outputId": "58d9b9ff-0c72-482a-f820-09b85180dd27"
      },
      "source": [
        "# result using Gradient Boosting Classifier\n",
        "print(result2_1)\n",
        "print(result2_2)"
      ],
      "execution_count": null,
      "outputs": [
        {
          "output_type": "stream",
          "name": "stdout",
          "text": [
            "[1]\n",
            "[1]\n"
          ]
        }
      ]
    },
    {
      "cell_type": "markdown",
      "metadata": {
        "id": "KNFWPRb85378"
      },
      "source": [
        "# Kesimpulan"
      ]
    },
    {
      "cell_type": "markdown",
      "metadata": {
        "id": "6aeafHiv581M"
      },
      "source": [
        "## Model Analysis"
      ]
    },
    {
      "cell_type": "markdown",
      "metadata": {
        "id": "LxU-2LF65-gw"
      },
      "source": [
        "### Random Forest Classifier\n",
        "\n",
        "*   Pemodelan ensemble menggunakan Random Forest Classifier memiliki akurasi sebesar 85.1%, tergolong cukup besar.\n",
        "\n",
        "*   dilihat dari f1-score, akurasi model tepat sesuai data saat memprediksi pasien 'Survived' lebih tinggi dibandikan akurasi model saat memprediksi pasien 'Deceased'."
      ]
    },
    {
      "cell_type": "markdown",
      "metadata": {
        "id": "pVLiAK3W7sqy"
      },
      "source": [
        "### Gradient Boosting Classifier\n",
        "\n",
        "*   Pemodelan ensemble menggunakan Gradient Boosting Classifier memiliki akurasi sebesar 83.9%, tergolong cukup besar.\n",
        "\n",
        "*   dilihat dari f1-score, akurasi model tepat sesuai data saat memprediksi pasien 'Survived' lebih tinggi dibandikan akurasi model saat memprediksi pasien 'Deceased'."
      ]
    },
    {
      "cell_type": "markdown",
      "metadata": {
        "id": "yY56UcuF8D_a"
      },
      "source": [
        "## Overall Analysis\n",
        "\n",
        "*   Prediksi serangan jantung yang menimbulkan kematian dipengaruhi oleh beberapa fitur, yaitu 'age' , 'ejection_fraction' , 'serum_sodium' , dan 'time'\n",
        "\n",
        "*   Dilihat dari besarnya akurasi, Random Forest Classifier lebih baik dibandingkan Gradient Boosting Classifier untuk dataset ini.\n",
        "*   Saat dua model diuji dengan data baru (a), kedua model mengeluarkan prediksi kalau pasien akan meninggal karena serangan jantung. Saat dua model diuji dengan data baru (b), kedua model juga mengeluarkan prediksi kalau pasien akan meninggal karena serangan jantung.\n",
        "*   Kedua model dapat diterapkan kedalam dataset ini."
      ]
    }
  ]
}